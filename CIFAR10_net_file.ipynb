{
  "nbformat": 4,
  "nbformat_minor": 0,
  "metadata": {
    "accelerator": "GPU",
    "colab": {
      "provenance": []
    },
    "kernelspec": {
      "display_name": "Python 3",
      "name": "python3"
    }
  },
  "cells": [
    {
      "cell_type": "code",
      "metadata": {
        "id": "gusS7L6DdWQj"
      },
      "source": [
        "import tensorflow as tf\n",
        "import tensorflow.keras\n",
        "from tensorflow.keras.datasets import cifar10\n",
        "from tensorflow.keras.preprocessing.image import ImageDataGenerator\n",
        "from tensorflow.keras.models import Sequential\n",
        "from tensorflow.keras.layers import Dense, Dropout, Activation, Flatten, LeakyReLU\n",
        "from tensorflow.keras.layers import Conv2D, MaxPooling2D\n",
        "import os\n",
        "\n",
        "import numpy as np\n",
        "from google.colab import files\n",
        "import pandas as pd\n",
        "\n",
        "!pip install latex\n",
        "import matplotlib as mpl\n",
        "mpl.use('PS')\n",
        "import matplotlib.pyplot as plt\n",
        "mpl.rcParams['text.usetex'] = True"
      ],
      "execution_count": null,
      "outputs": []
    },
    {
      "cell_type": "code",
      "metadata": {
        "id": "coMfYO3UKNpf"
      },
      "source": [
        "gpu_info = !nvidia-smi\n",
        "gpu_info = '\\n'.join(gpu_info)\n",
        "if gpu_info.find('failed') >= 0:\n",
        "  print('Select the Runtime > \"Change runtime type\" menu to enable a GPU accelerator, ')\n",
        "  print('and then re-execute this cell.')\n",
        "else:\n",
        "  print(gpu_info)"
      ],
      "execution_count": null,
      "outputs": []
    },
    {
      "cell_type": "code",
      "metadata": {
        "id": "njYP5h5fdX-m"
      },
      "source": [
        "batch_size = 32\n",
        "num_classes = 10\n",
        "epochs = 40\n",
        "num_predictions = 20\n",
        "num_functions=23\n",
        "Trials=1\n",
        "num_plots = num_functions"
      ],
      "execution_count": 3,
      "outputs": []
    },
    {
      "cell_type": "code",
      "metadata": {
        "id": "TiLOfT3gdbun"
      },
      "source": [
        "\n",
        "(x_train, y_train), (x_test, y_test) = cifar10.load_data()\n",
        "print('x_train shape:', x_train.shape)\n",
        "print(x_train.shape[0], 'train samples')\n",
        "print(x_test.shape[0], 'test samples')"
      ],
      "execution_count": null,
      "outputs": []
    },
    {
      "cell_type": "code",
      "metadata": {
        "id": "5tGTNDAndfXM"
      },
      "source": [
        "y_train = tf.keras.utils.to_categorical(y_train, num_classes)\n",
        "y_test = tf.keras.utils.to_categorical(y_test, num_classes)"
      ],
      "execution_count": 5,
      "outputs": []
    },
    {
      "cell_type": "code",
      "metadata": {
        "id": "0YU1qbz-dh6B"
      },
      "source": [
        "def act_func(x):\n",
        "    return tf.sin(x)"
      ],
      "execution_count": 6,
      "outputs": []
    },
    {
      "cell_type": "code",
      "metadata": {
        "id": "6XXH34XudsvD"
      },
      "source": [
        "x_train = x_train.astype('float32')\n",
        "x_test = x_test.astype('float32')\n",
        "x_train /= 255\n",
        "x_test /= 255\n",
        "x_train = x_train-0.5\n",
        "x_test = x_test-0.5"
      ],
      "execution_count": 7,
      "outputs": []
    },
    {
      "cell_type": "code",
      "source": [
        "def signum(x):\n",
        "  return tf.math.sign(x)"
      ],
      "metadata": {
        "id": "u1a4Bq1P2qUX"
      },
      "execution_count": 8,
      "outputs": []
    },
    {
      "cell_type": "code",
      "source": [
        "def identity(x):\n",
        "  return x"
      ],
      "metadata": {
        "id": "lNfsVqst2uFg"
      },
      "execution_count": 9,
      "outputs": []
    },
    {
      "cell_type": "code",
      "source": [
        "def gcu(x):\n",
        "  return x * tf.cos(x)"
      ],
      "metadata": {
        "id": "TrdtkoKN2yEc"
      },
      "execution_count": 10,
      "outputs": []
    },
    {
      "cell_type": "code",
      "source": [
        "def bipolar(x):\n",
        "  return (1-tf.exp(-x))/(1+tf.exp(-x))"
      ],
      "metadata": {
        "id": "HcGD5fpP21Jd"
      },
      "execution_count": 11,
      "outputs": []
    },
    {
      "cell_type": "code",
      "source": [
        "def swish(x):\n",
        "  return x * tf.sigmoid(x)"
      ],
      "metadata": {
        "id": "ece-U8AN2x0E"
      },
      "execution_count": 12,
      "outputs": []
    },
    {
      "cell_type": "code",
      "source": [
        "lrelu=tf.keras.layers.LeakyReLU(alpha=0.01)"
      ],
      "metadata": {
        "id": "TvwgMIhh28DQ"
      },
      "execution_count": 13,
      "outputs": []
    },
    {
      "cell_type": "code",
      "source": [
        "Tanh=tf.tanh"
      ],
      "metadata": {
        "id": "h3oMGn20276t"
      },
      "execution_count": 14,
      "outputs": []
    },
    {
      "cell_type": "code",
      "source": [
        "absolute=tf.abs"
      ],
      "metadata": {
        "id": "StwbZqjV3CBE"
      },
      "execution_count": 15,
      "outputs": []
    },
    {
      "cell_type": "code",
      "source": [
        "swish=tf.keras.activations.swish"
      ],
      "metadata": {
        "id": "Sw-vNqhx3Hxc"
      },
      "execution_count": 16,
      "outputs": []
    },
    {
      "cell_type": "code",
      "source": [
        "def lisht(x):\n",
        "  return x*tf.tanh(x)"
      ],
      "metadata": {
        "id": "M-JsqClX3LQW"
      },
      "execution_count": 17,
      "outputs": []
    },
    {
      "cell_type": "code",
      "source": [
        "def softplus(x):\n",
        "  return tf.math.softplus(x,name=None)"
      ],
      "metadata": {
        "id": "eF-5y2bF27t9"
      },
      "execution_count": 18,
      "outputs": []
    },
    {
      "cell_type": "code",
      "source": [
        "def gelu(x):\n",
        "  return tf.keras.activations.gelu(\n",
        "    x, approximate=False\n",
        ")"
      ],
      "metadata": {
        "id": "ScO77JMl3R-U"
      },
      "execution_count": 19,
      "outputs": []
    },
    {
      "cell_type": "code",
      "source": [
        "def selu(x):\n",
        "  return tf.keras.activations.selu(x)"
      ],
      "metadata": {
        "id": "S5Q0Q2BG3VQU"
      },
      "execution_count": 20,
      "outputs": []
    },
    {
      "cell_type": "code",
      "source": [
        "def mish(x):\n",
        "  return x * tf.tanh(softplus(x))"
      ],
      "metadata": {
        "id": "G5kE9grw3VI-"
      },
      "execution_count": 21,
      "outputs": []
    },
    {
      "cell_type": "code",
      "source": [
        "def elu(x):\n",
        "  return tf.keras.activations.elu(x)"
      ],
      "metadata": {
        "id": "l2634zTQ3bX0"
      },
      "execution_count": 22,
      "outputs": []
    },
    {
      "cell_type": "code",
      "source": [
        "def prelu(x):\n",
        "  alphas = 0.25\n",
        "  pos = tf.nn.relu(x)\n",
        "  neg = alphas * (x - abs(x)) * 0.5\n",
        "\n",
        "  return pos + neg"
      ],
      "metadata": {
        "id": "tGrH_N8j3evd"
      },
      "execution_count": 23,
      "outputs": []
    },
    {
      "cell_type": "code",
      "source": [
        "def sine(x):\n",
        "  return tf.sin(x)"
      ],
      "metadata": {
        "id": "RMk_yDBK3ilM"
      },
      "execution_count": 24,
      "outputs": []
    },
    {
      "cell_type": "code",
      "source": [
        "def squ(x):\n",
        "  return tf.square(x)+x"
      ],
      "metadata": {
        "id": "ciKqxzvW2xsm"
      },
      "execution_count": 25,
      "outputs": []
    },
    {
      "cell_type": "code",
      "source": [
        "def nonmonotonic(x):\n",
        "  return x-x*x*x"
      ],
      "metadata": {
        "id": "_t_5hlBw3tJU"
      },
      "execution_count": 26,
      "outputs": []
    },
    {
      "cell_type": "code",
      "source": [
        "def z2cosz(x):\n",
        "  return x*x*tf.cos(x)"
      ],
      "metadata": {
        "id": "Nlz05sC03wIE"
      },
      "execution_count": 27,
      "outputs": []
    },
    {
      "cell_type": "code",
      "source": [
        "def ssu(x):\n",
        "  pi=np.pi\n",
        "  return pi*tf.experimental.numpy.sinc(x-pi)"
      ],
      "metadata": {
        "id": "nYMHWsRD3zQW"
      },
      "execution_count": 28,
      "outputs": []
    },
    {
      "cell_type": "code",
      "source": [
        "def dsu(x):\n",
        "  pi=np.pi\n",
        "  return pi*(tf.experimental.numpy.sinc(x-pi)-tf.experimental.numpy.sinc(x+pi))/2"
      ],
      "metadata": {
        "id": "vAA8Y0HM3tAz"
      },
      "execution_count": 29,
      "outputs": []
    },
    {
      "cell_type": "code",
      "metadata": {
        "id": "5q7EJ1yydxS-"
      },
      "source": [
        "def create_model(activation, dense_activation):\n",
        "  model = Sequential()\n",
        "  model.add(Conv2D(32, (3, 3), padding='same',\n",
        "                  input_shape=x_train.shape[1:]))\n",
        "  model.add(Activation(activation))\n",
        "  model.add(Conv2D(32, (3, 3)))\n",
        "  model.add(Activation(activation))\n",
        "  model.add(MaxPooling2D(pool_size=(2, 2)))\n",
        "  model.add(Dropout(0.25))\n",
        "\n",
        "  model.add(Conv2D(64, (3, 3), padding='same'))\n",
        "  model.add(Activation(activation))\n",
        "  model.add(Conv2D(64, (3, 3)))\n",
        "  model.add(Activation(activation))\n",
        "  model.add(MaxPooling2D(pool_size=(2, 2)))\n",
        "  model.add(Dropout(0.25))\n",
        "\n",
        "  model.add(Flatten())\n",
        "  model.add(Dense(512))\n",
        "  model.add(Activation(dense_activation))\n",
        "  model.add(Dropout(0.5))\n",
        "  model.add(Dense(num_classes))\n",
        "  model.add(Activation('softmax'))\n",
        "\n",
        "  # initiate Adam optimizer\n",
        "  opt = tf.keras.optimizers.Adam(learning_rate=1e-4)\n",
        "\n",
        "  # Let's train the model using Adam\n",
        "  model.compile(loss='categorical_crossentropy',\n",
        "                optimizer=opt,\n",
        "                metrics=['accuracy'])\n",
        "\n",
        "  return model"
      ],
      "execution_count": 30,
      "outputs": []
    },
    {
      "cell_type": "code",
      "metadata": {
        "id": "RaCyAh6aptia"
      },
      "source": [
        "\n",
        "j=0;\n",
        "if j==0:\n",
        "  func=signum\n",
        "  func_label=\"Signum\"\n",
        "if j==1:\n",
        "  func=identity\n",
        "  func_label=\"Identity\"\n",
        "if j==2:\n",
        "  func=bipolar\n",
        "  func_label=\"Bipolar\"\n",
        "if j==3:\n",
        "  func='sigmoid'\n",
        "  func_label=\"Sigmoid\"\n",
        "if j==4:\n",
        "  func=Tanh\n",
        "  func_label=\"Tanh\"\n",
        "if j==5:\n",
        "  func=absolute\n",
        "  func_label=\"Absolute\"\n",
        "if j==6:\n",
        "  func=lisht\n",
        "  func_label=\"LiSHT\"\n",
        "if j==7:\n",
        "  func=softplus\n",
        "  func_label=\"Softplus\"\n",
        "if j==8:\n",
        "  func='relu'\n",
        "  func_label=\"ReLU\"\n",
        "if j==9:\n",
        "  func=lrelu\n",
        "  func_label=\"LeakyReLU\"\n",
        "if j==10:\n",
        "  func=gelu\n",
        "  func_label=\"GELU\"\n",
        "if j==11:\n",
        "  func=selu\n",
        "  func_label=\"SELU\"\n",
        "if j==12:\n",
        "  func=mish\n",
        "  func_label=\"Mish\"\n",
        "if j==13:\n",
        "  func=swish\n",
        "  func_label=\"Swish\"\n",
        "if j==14:\n",
        "  func=elu\n",
        "  func_label=\"ELU\"\n",
        "if j==15:\n",
        "  func=prelu\n",
        "  func_label=\"PReLU\"\n",
        "if j==16:\n",
        "  func=sine\n",
        "  func_label=\"SU\"\n",
        "if j==17:\n",
        "  func=squ\n",
        "  func_label=\"SQU\"\n",
        "if j==18:\n",
        "  func=nonmonotonic\n",
        "  func_label=\"NMC\"\n",
        "if j==19:\n",
        "  func=z2cosz\n",
        "  func_label=\"z2Cosz\"\n",
        "if j==20:\n",
        "  func=ssu\n",
        "  func_label=\"SSU\"\n",
        "if j==21:\n",
        "  func=gcu\n",
        "  func_label=\"GCU\"\n",
        "if j==22:\n",
        "  func=dsu\n",
        "  func_label=\"DSU\"\n",
        "valloss = []\n",
        "valacc = []\n",
        "history_plot_a[j]=[]\n",
        "history_plot_l[j]=[]\n",
        "print(j+1,func_label)\n",
        "net_model = create_model(func,'relu')\n",
        "history_a=net_model.fit(x_train,y_train,batch_size=32,epochs=epochs,validation_data = (x_test,y_test))\n",
        "history_plot_a[j].append(history_a.history['val_accuracy'])\n",
        "history_plot_l[j].append(history_a.history['val_loss'])\n",
        "func_name[j]=func_label\n",
        "results = net_model.evaluate(x_test, y_test)\n",
        "print(\"Test loss=\",results[0])\n",
        "print(\"Test accuracy=\",results[1])"
      ],
      "execution_count": null,
      "outputs": []
    },
    {
      "cell_type": "code",
      "source": [
        "print(\"Simulation Complete!\")"
      ],
      "metadata": {
        "id": "66MbauT1_uzy"
      },
      "execution_count": null,
      "outputs": []
    }
  ]
}