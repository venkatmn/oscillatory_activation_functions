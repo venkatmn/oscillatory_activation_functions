{
  "cells": [
    {
      "cell_type": "code",
      "execution_count": null,
      "metadata": {
        "id": "a3-hsal4lv_m"
      },
      "outputs": [],
      "source": [
        "import tensorflow as tf\n",
        "import tensorflow_datasets as tfds\n",
        "\n",
        "import pandas as pd\n",
        "import openpyxl\n",
        "import matplotlib.pyplot as plt\n",
        "import statistics\n",
        "\n",
        "\n",
        "from tensorflow import keras\n",
        "from tensorflow.keras.models import Model\n",
        "from tensorflow.keras.layers import Conv2D, Flatten, Dense, MaxPooling2D, BatchNormalization, Add, Activation, ZeroPadding2D, Input, AveragePooling2D, MaxPool2D\n",
        "from tensorflow.keras import activations\n",
        "from tensorflow.keras.regularizers import l1, l2\n",
        "from tensorflow.keras.optimizers import Adam, RMSprop\n",
        "from tensorflow.keras.metrics import categorical_crossentropy, sparse_categorical_crossentropy\n",
        "from matplotlib.font_manager import FontProperties\n",
        "\n",
        "from google.colab import files\n",
        "import cv2\n",
        "import sys\n",
        "from tensorflow.keras.utils import to_categorical\n",
        "import numpy as np\n",
        "import math as m\n",
        "!pip install XlsxWriter\n",
        "import xlsxwriter"
      ]
    },
    {
      "cell_type": "code",
      "execution_count": null,
      "metadata": {
        "id": "yTlTXUnuoULz"
      },
      "outputs": [],
      "source": [
        "batch_size = 64\n",
        "(ds_train, ds_test), ds_info = tfds.load(\n",
        "    'imagenette/160px-v2',\n",
        "    split=['train', 'validation'],\n",
        "    shuffle_files=True,\n",
        "    as_supervised=True,\n",
        "    with_info=True,\n",
        ")\n",
        "class_types = 10\n",
        "\n",
        "\n",
        "print(ds_info)\n",
        "tfds.features.Image"
      ]
    },
    {
      "cell_type": "code",
      "execution_count": 24,
      "metadata": {
        "id": "NQ_PV9puxp-h"
      },
      "outputs": [],
      "source": [
        "IMG_SIZE = 100\n",
        "\n",
        "resize_and_rescale = tf.keras.Sequential([\n",
        "  keras.layers.experimental.preprocessing.Resizing(IMG_SIZE, IMG_SIZE),\n",
        "  keras.layers.experimental.preprocessing.Rescaling(1)\n",
        "])"
      ]
    },
    {
      "cell_type": "code",
      "execution_count": 25,
      "metadata": {
        "id": "Mc-5C7bOmBtf"
      },
      "outputs": [],
      "source": [
        "def normalize_img(image, label):\n",
        "  \"\"\"Normalizes images: `uint8` -> `float32`.\"\"\"\n",
        "  image = tf.image.resize(image, (100, 100))\n",
        "  return tf.cast(image, tf.float32) / 255 - 0.5, label\n",
        "\n",
        "ds_train = ds_train.map(\n",
        "    normalize_img, num_parallel_calls=tf.data.experimental.AUTOTUNE)\n",
        "ds_train = ds_train.cache()\n",
        "ds_train = ds_train.shuffle(ds_info.splits['train'].num_examples)\n",
        "ds_train = ds_train.batch(64)\n",
        "ds_train = ds_train.prefetch(tf.data.experimental.AUTOTUNE)\n"
      ]
    },
    {
      "cell_type": "code",
      "execution_count": 26,
      "metadata": {
        "id": "a2ZlHO7bvalU"
      },
      "outputs": [],
      "source": [
        "ds_test = ds_test.map(\n",
        "    normalize_img, num_parallel_calls=tf.data.experimental.AUTOTUNE)\n",
        "ds_test = ds_test.batch(64)"
      ]
    },
    {
      "cell_type": "code",
      "execution_count": 27,
      "metadata": {
        "id": "qgZVhuf076tx"
      },
      "outputs": [],
      "source": [
        "class CustomRandomNormal(tf.keras.initializers.Initializer):\n",
        "\n",
        "  def __init__(self, mean, stddev):\n",
        "    self.mean = mean\n",
        "    self.stddev = stddev\n",
        "\n",
        "  def __call__(self, shape, dtype=None, **kwargs):\n",
        "    return 0.1 * tf.random.normal(\n",
        "        shape, mean=self.mean, stddev=self.stddev, dtype=dtype)\n",
        "\n",
        "  def get_config(self):  # To support serialization\n",
        "    return {\"mean\": self.mean, \"stddev\": self.stddev}"
      ]
    },
    {
      "cell_type": "code",
      "execution_count": 28,
      "metadata": {
        "id": "OOvxbX5AoXjo"
      },
      "outputs": [],
      "source": [
        "def build_vgg(activation, dense_activation):\n",
        "\n",
        "    inputs = Input(shape = (100, 100, 3))\n",
        "    x = inputs\n",
        "    #initializer = CustomRandomNormal(-1, 1)\n",
        "    x = Conv2D(64, kernel_size = (3, 3), padding = 'same', activation = activation)(x)\n",
        "    x = Conv2D(64, kernel_size = (3, 3), padding = 'same', activation = activation)(x)\n",
        "    x = MaxPool2D(pool_size = (2, 2))(x)\n",
        "\n",
        "    x = Conv2D(128, kernel_size = (3, 3), padding = 'same', activation = activation)(x)\n",
        "    x = Conv2D(128, kernel_size = (3, 3), padding = 'same', activation = activation)(x)\n",
        "    x = MaxPool2D(pool_size = (2, 2))(x)\n",
        "\n",
        "    x = Conv2D(256, kernel_size = (3, 3), padding = 'same', activation = activation)(x)\n",
        "    x = Conv2D(256, kernel_size = (3, 3), padding = 'same', activation = activation)(x)\n",
        "    x = Conv2D(256, kernel_size = (3, 3), padding = 'same', activation = activation)(x)\n",
        "    x = MaxPool2D(pool_size = (2, 2))(x)\n",
        "\n",
        "    x = Conv2D(512, kernel_size = (3, 3), padding = 'same', activation = activation)(x)\n",
        "    x = Conv2D(512, kernel_size = (3, 3), padding = 'same', activation = activation)(x)\n",
        "    x = Conv2D(512, kernel_size = (3, 3), padding = 'same', activation = activation)(x)\n",
        "    x = MaxPool2D(pool_size = (2, 2))(x)\n",
        "\n",
        "    x = Conv2D(512, kernel_size = (3, 3), padding = 'same', activation = activation)(x)\n",
        "    x = Conv2D(512, kernel_size = (3, 3), padding = 'same', activation = activation)(x)\n",
        "    x = Conv2D(512, kernel_size = (3, 3), padding = 'same', activation = activation)(x)\n",
        "    x = MaxPool2D(pool_size = (2, 2))(x)\n",
        "\n",
        "    x = Flatten()(x)\n",
        "\n",
        "    x = Dense(2048, activation = dense_activation)(x)\n",
        "    x = Dense(2048, activation = dense_activation)(x)\n",
        "\n",
        "    output = Dense(10, activation = 'softmax')(x)\n",
        "\n",
        "    model = Model(inputs = [inputs], outputs = [output])\n",
        "\n",
        "    return model\n"
      ]
    },
    {
      "cell_type": "code",
      "execution_count": null,
      "metadata": {
        "id": "wez2R3cv5j5a"
      },
      "outputs": [],
      "source": [
        "ds_test"
      ]
    },
    {
      "cell_type": "code",
      "execution_count": 30,
      "metadata": {
        "id": "M53wvHEvtAFh"
      },
      "outputs": [],
      "source": [
        "def step(X, y):\n",
        "\t# keep track of our gradients\n",
        "\twith tf.GradientTape() as tape:\n",
        "\t\t# make a prediction using the model and then calculate the\n",
        "\t\t# loss\n",
        "\t\tpred = model(X)\n",
        "\t\tloss = sparse_categorical_crossentropy(y, pred)\n",
        "\n",
        "\t# calculate the gradients using our tape and then update the\n",
        "\t# model weights\n",
        "\tgrads = tape.gradient(loss, model.trainable_variables)\n",
        "\topt.apply_gradients(zip(grads, model.trainable_variables))\n",
        "\n",
        "\treturn grads"
      ]
    },
    {
      "cell_type": "code",
      "execution_count": 31,
      "metadata": {
        "id": "tYq5Lmsz_EhE"
      },
      "outputs": [],
      "source": [
        "def rms_val(gradient):\n",
        "  total = 0\n",
        "  count = 0\n",
        "  for grad in gradient:\n",
        "    total += tf.square(grad)\n",
        "    count += 1\n",
        "\n",
        "  val = tf.sqrt(total/count)\n",
        "  return val.numpy()"
      ]
    },
    {
      "cell_type": "code",
      "execution_count": 32,
      "metadata": {
        "id": "sx6-PhdicLWC"
      },
      "outputs": [],
      "source": [
        "def signum(x):\n",
        "  return tf.math.sign(x)"
      ]
    },
    {
      "cell_type": "code",
      "execution_count": 33,
      "metadata": {
        "id": "k9opsa8Wca5O"
      },
      "outputs": [],
      "source": [
        "def identity(x):\n",
        "  return x"
      ]
    },
    {
      "cell_type": "code",
      "execution_count": 34,
      "metadata": {
        "id": "jMQ4Ed3AdhI3"
      },
      "outputs": [],
      "source": [
        "def gcu(x):\n",
        "  return x * tf.cos(x)"
      ]
    },
    {
      "cell_type": "code",
      "execution_count": 35,
      "metadata": {
        "id": "01lCpvqHbhWk"
      },
      "outputs": [],
      "source": [
        "def bipolar(x):\n",
        "  return (1-tf.exp(-x))/(1+tf.exp(-x))"
      ]
    },
    {
      "cell_type": "code",
      "execution_count": 36,
      "metadata": {
        "id": "nKRpL2c58mXt"
      },
      "outputs": [],
      "source": [
        "def swish(x):\n",
        "  return x * tf.sigmoid(x)"
      ]
    },
    {
      "cell_type": "code",
      "execution_count": 37,
      "metadata": {
        "id": "ZOW20vsY9oJ7"
      },
      "outputs": [],
      "source": [
        "lrelu=tf.keras.layers.LeakyReLU(alpha=0.01)"
      ]
    },
    {
      "cell_type": "code",
      "execution_count": 38,
      "metadata": {
        "id": "kahyFrSlUks2"
      },
      "outputs": [],
      "source": [
        "Tanh=tf.tanh"
      ]
    },
    {
      "cell_type": "code",
      "execution_count": 39,
      "metadata": {
        "id": "xDPb4VTlSd8y"
      },
      "outputs": [],
      "source": [
        "absolute=tf.abs"
      ]
    },
    {
      "cell_type": "code",
      "execution_count": 40,
      "metadata": {
        "id": "Ukk8Xc62dtYq"
      },
      "outputs": [],
      "source": [
        "swish=tf.keras.activations.swish"
      ]
    },
    {
      "cell_type": "code",
      "execution_count": 41,
      "metadata": {
        "id": "4UZcyewcd_Ut"
      },
      "outputs": [],
      "source": [
        "def lisht(x):\n",
        "  return x*tf.tanh(x)"
      ]
    },
    {
      "cell_type": "code",
      "execution_count": 42,
      "metadata": {
        "id": "9ap6GO5-eLnS"
      },
      "outputs": [],
      "source": [
        "def softplus(x):\n",
        "  return tf.math.softplus(x,name=None)"
      ]
    },
    {
      "cell_type": "code",
      "execution_count": 43,
      "metadata": {
        "id": "ozWitIpBfZD6"
      },
      "outputs": [],
      "source": [
        "def gelu(x):\n",
        "  return tf.keras.activations.gelu(\n",
        "    x, approximate=False\n",
        ")"
      ]
    },
    {
      "cell_type": "code",
      "execution_count": 44,
      "metadata": {
        "id": "CfCVPjknfpwS"
      },
      "outputs": [],
      "source": [
        "def selu(x):\n",
        "  return tf.keras.activations.selu(x)"
      ]
    },
    {
      "cell_type": "code",
      "execution_count": 45,
      "metadata": {
        "id": "meMb9-bpf_3M"
      },
      "outputs": [],
      "source": [
        "def mish(x):\n",
        "  return x * tf.tanh(softplus(x))\n"
      ]
    },
    {
      "cell_type": "code",
      "execution_count": 46,
      "metadata": {
        "id": "CzLdkPe8TXKQ"
      },
      "outputs": [],
      "source": [
        "def elu(x):\n",
        "  return tf.keras.activations.elu(x)"
      ]
    },
    {
      "cell_type": "code",
      "execution_count": 47,
      "metadata": {
        "id": "khFDns08gDZq"
      },
      "outputs": [],
      "source": [
        "def prelu(x):\n",
        "  alphas = 0.25\n",
        "  pos = tf.nn.relu(x)\n",
        "  neg = alphas * (x - abs(x)) * 0.5\n",
        "\n",
        "  return pos + neg"
      ]
    },
    {
      "cell_type": "code",
      "execution_count": 48,
      "metadata": {
        "id": "sRFvvB66Uq5c"
      },
      "outputs": [],
      "source": [
        "def sine(x):\n",
        "  return tf.sin(x)"
      ]
    },
    {
      "cell_type": "code",
      "execution_count": 49,
      "metadata": {
        "id": "YELmNewhgpD5"
      },
      "outputs": [],
      "source": [
        "def squ(x):\n",
        "  return x*x+x"
      ]
    },
    {
      "cell_type": "code",
      "execution_count": 50,
      "metadata": {
        "id": "VnA3WG-fgz86"
      },
      "outputs": [],
      "source": [
        "def monotonic(x):\n",
        "  return x*x*x+x"
      ]
    },
    {
      "cell_type": "code",
      "execution_count": 51,
      "metadata": {
        "id": "2qJ9hKnRg6VE"
      },
      "outputs": [],
      "source": [
        "def nonmonotonic(x):\n",
        "  return x-x*x*x"
      ]
    },
    {
      "cell_type": "code",
      "execution_count": 52,
      "metadata": {
        "id": "9-8vFkMxhHHK"
      },
      "outputs": [],
      "source": [
        "def z2cosz(x):\n",
        "  return x*x*tf.cos(x)"
      ]
    },
    {
      "cell_type": "code",
      "execution_count": 53,
      "metadata": {
        "id": "dP-Pxpr2hUpx"
      },
      "outputs": [],
      "source": [
        "def ssu(x):\n",
        "  pi=np.pi\n",
        "  return pi*tf.experimental.numpy.sinc(x-pi)"
      ]
    },
    {
      "cell_type": "code",
      "execution_count": 54,
      "metadata": {
        "id": "bULGOEPMWr-t"
      },
      "outputs": [],
      "source": [
        "def dsu(x):\n",
        "  pi=np.pi\n",
        "  return pi*(tf.experimental.numpy.sinc(x-pi)-tf.experimental.numpy.sinc(x+pi))/2"
      ]
    },
    {
      "cell_type": "code",
      "source": [
        "history_plot_a=[None]*23\n",
        "history_plot_l=[None]*23\n",
        "func_name=[None]*23"
      ],
      "metadata": {
        "id": "8G5ZSaCJrcQT"
      },
      "execution_count": 55,
      "outputs": []
    },
    {
      "cell_type": "code",
      "source": [
        "num_functions = 23\n",
        "num_plots = num_functions\n",
        "epochs=25\n",
        "Trials=1"
      ],
      "metadata": {
        "id": "9Ec080t_90jt"
      },
      "execution_count": 56,
      "outputs": []
    },
    {
      "cell_type": "code",
      "execution_count": null,
      "metadata": {
        "id": "vSYOlgBa8XVR"
      },
      "outputs": [],
      "source": [
        "j=1   #Vary j between 0 and 22 to choose different activation functions\n",
        "\n",
        "if j==0:\n",
        "  func=signum\n",
        "  func_label=\"Signum\"\n",
        "if j==1:\n",
        "  func=identity\n",
        "  func_label=\"Identity\"\n",
        "if j==2:\n",
        "  func=bipolar\n",
        "  func_label=\"Bipolar\"\n",
        "if j==3:\n",
        "  func='sigmoid'\n",
        "  func_label=\"Sigmoid\"\n",
        "if j==4:\n",
        "  func=Tanh\n",
        "  func_label=\"Tanh\"\n",
        "if j==5:\n",
        "  func=absolute\n",
        "  func_label=\"Absolute\"\n",
        "if j==6:\n",
        "  func=lisht\n",
        "  func_label=\"LiSHT\"\n",
        "if j==7:\n",
        "  func=softplus\n",
        "  func_label=\"Softplus\"\n",
        "if j==8:\n",
        "  func='relu'\n",
        "  func_label=\"ReLU\"\n",
        "if j==9:\n",
        "  func=lrelu\n",
        "  func_label=\"LeakyReLU\"\n",
        "if j==10:\n",
        "  func=gelu\n",
        "  func_label=\"GELU\"\n",
        "if j==11:\n",
        "  func=selu\n",
        "  func_label=\"SELU\"\n",
        "if j==12:\n",
        "  func=mish\n",
        "  func_label=\"Mish\"\n",
        "if j==13:\n",
        "  func=swish\n",
        "  func_label=\"Swish\"\n",
        "if j==14:\n",
        "  func=elu\n",
        "  func_label=\"ELU\"\n",
        "if j==15:\n",
        "  func=prelu\n",
        "  func_label=\"PReLU\"\n",
        "if j==16:\n",
        "  func=sine\n",
        "  func_label=\"SU\"\n",
        "if j==17:\n",
        "  func=squ\n",
        "  func_label=\"SQU\"\n",
        "if j==18:\n",
        "  func=nonmonotonic\n",
        "  func_label=\"NMC\"\n",
        "if j==19:\n",
        "  func=z2cosz\n",
        "  func_label=\"z2Cosz\"\n",
        "if j==20:\n",
        "  func=ssu\n",
        "  func_label=\"SSU\"\n",
        "if j==21:\n",
        "  func=gcu\n",
        "  func_label=\"GCU\"\n",
        "if j==22:\n",
        "  func=dsu\n",
        "  func_label=\"DSU\"\n",
        "print(j+1,func_label)\n",
        "net_model = build_vgg(func,func)\n",
        "net_model.compile(optimizer = RMSprop(learning_rate=1e-5) , loss = 'sparse_categorical_crossentropy', metrics = ['accuracy'])\n",
        "history_a = net_model.fit(ds_train,epochs=epochs,validation_data = ds_test)\n",
        "results = net_model.evaluate(ds_test)\n",
        "\n",
        "print(\"Test loss=\",results[0])\n",
        "print(\"Test accuracy=\",results[1])\n"
      ]
    },
    {
      "cell_type": "code",
      "source": [
        "print(\"Simulation Complete!\")\n"
      ],
      "metadata": {
        "id": "k9wEavsHAEyY"
      },
      "execution_count": null,
      "outputs": []
    }
  ],
  "metadata": {
    "accelerator": "GPU",
    "colab": {
      "provenance": [],
      "gpuClass": "premium"
    },
    "gpuClass": "premium",
    "kernelspec": {
      "display_name": "Python 3.8.8 ('base')",
      "language": "python",
      "name": "python3"
    },
    "language_info": {
      "codemirror_mode": {
        "name": "ipython",
        "version": 3
      },
      "file_extension": ".py",
      "mimetype": "text/x-python",
      "name": "python",
      "nbconvert_exporter": "python",
      "pygments_lexer": "ipython3",
      "version": "3.8.8"
    },
    "vscode": {
      "interpreter": {
        "hash": "173fb8f7b4f5e178f128f42ea920f704627f040de39874f60763e4503dc17f35"
      }
    }
  },
  "nbformat": 4,
  "nbformat_minor": 0
}