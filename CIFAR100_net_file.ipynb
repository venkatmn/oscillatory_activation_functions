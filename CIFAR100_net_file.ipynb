{
  "cells": [
    {
      "cell_type": "code",
      "execution_count": null,
      "metadata": {
        "id": "dynQCy2kWeZR"
      },
      "outputs": [],
      "source": [
        "!pip install tensorflow-addons"
      ]
    },
    {
      "cell_type": "code",
      "execution_count": 45,
      "metadata": {
        "id": "UGP5sbNGWeZU"
      },
      "outputs": [],
      "source": [
        "import tensorflow_addons as tfa"
      ]
    },
    {
      "cell_type": "code",
      "execution_count": 46,
      "metadata": {
        "id": "gusS7L6DdWQj"
      },
      "outputs": [],
      "source": [
        "import tensorflow_datasets as tfds\n",
        "\n",
        "import tensorflow as tf\n",
        "\n",
        "import pandas as pd\n",
        "import openpyxl\n",
        "import matplotlib.pyplot as plt\n",
        "import statistics\n",
        "\n",
        "\n",
        "from tensorflow import keras\n",
        "from tensorflow.keras.models import Model\n",
        "from tensorflow.keras.layers import Conv2D, Flatten, Dense, MaxPooling2D, BatchNormalization, Add, Activation, ZeroPadding2D, Input, AveragePooling2D, MaxPool2D\n",
        "from tensorflow.keras import activations\n",
        "from tensorflow.keras.regularizers import l1, l2\n",
        "from tensorflow.keras.optimizers import Adam, RMSprop\n",
        "from tensorflow.keras.metrics import categorical_crossentropy, sparse_categorical_crossentropy\n",
        "from matplotlib.font_manager import FontProperties\n",
        "\n",
        "from google.colab import files\n",
        "import cv2\n",
        "import sys\n",
        "from tensorflow.keras.utils import to_categorical\n",
        "import numpy as np\n",
        "import math as m\n",
        "\n",
        "import tensorflow.keras\n",
        "from tensorflow.keras.datasets import cifar100\n",
        "from tensorflow.keras.preprocessing.image import ImageDataGenerator\n",
        "from tensorflow.keras.models import Sequential\n",
        "from tensorflow.keras.layers import Dense, Dropout, Activation, Flatten, LeakyReLU\n",
        "from tensorflow.keras.layers import Conv2D, MaxPooling2D\n",
        "import os\n",
        "import tensorflow as tf"
      ]
    },
    {
      "cell_type": "code",
      "execution_count": 47,
      "metadata": {
        "id": "njYP5h5fdX-m"
      },
      "outputs": [],
      "source": [
        "batch_size = 32\n",
        "num_classes = 100\n",
        "num_predictions = 20"
      ]
    },
    {
      "cell_type": "code",
      "execution_count": null,
      "metadata": {
        "id": "TiLOfT3gdbun"
      },
      "outputs": [],
      "source": [
        "\n",
        "(x_train, y_train), (x_test, y_test) = cifar100.load_data()\n",
        "print('x_train shape:', x_train.shape)\n",
        "print(x_train.shape[0], 'train samples')\n",
        "print(x_test.shape[0], 'test samples')"
      ]
    },
    {
      "cell_type": "code",
      "execution_count": 49,
      "metadata": {
        "id": "5tGTNDAndfXM"
      },
      "outputs": [],
      "source": [
        "y_train = tf.keras.utils.to_categorical(y_train, num_classes)\n",
        "y_test = tf.keras.utils.to_categorical(y_test, num_classes)"
      ]
    },
    {
      "cell_type": "code",
      "execution_count": 50,
      "metadata": {
        "id": "0YU1qbz-dh6B"
      },
      "outputs": [],
      "source": [
        "def act_func(x):\n",
        "    return tf.sin(x)"
      ]
    },
    {
      "cell_type": "code",
      "execution_count": 51,
      "metadata": {
        "id": "6XXH34XudsvD"
      },
      "outputs": [],
      "source": [
        "x_train = x_train.astype('float32')\n",
        "x_test = x_test.astype('float32')\n",
        "x_train /= 255\n",
        "x_test /= 255\n",
        "x_train = x_train-0.5\n",
        "x_test = x_test-0.5"
      ]
    },
    {
      "cell_type": "code",
      "execution_count": 52,
      "metadata": {
        "id": "sx6-PhdicLWC"
      },
      "outputs": [],
      "source": [
        "def signum(x):\n",
        "  return tf.math.sign(x)"
      ]
    },
    {
      "cell_type": "code",
      "execution_count": 53,
      "metadata": {
        "id": "k9opsa8Wca5O"
      },
      "outputs": [],
      "source": [
        "def identity(x):\n",
        "  return x"
      ]
    },
    {
      "cell_type": "code",
      "execution_count": 54,
      "metadata": {
        "id": "jMQ4Ed3AdhI3"
      },
      "outputs": [],
      "source": [
        "def gcu(x):\n",
        "  return x * tf.cos(x)"
      ]
    },
    {
      "cell_type": "code",
      "execution_count": 55,
      "metadata": {
        "id": "01lCpvqHbhWk"
      },
      "outputs": [],
      "source": [
        "def bipolar(x):\n",
        "  return (1-tf.exp(-x))/(1+tf.exp(-x))"
      ]
    },
    {
      "cell_type": "code",
      "execution_count": 56,
      "metadata": {
        "id": "nKRpL2c58mXt"
      },
      "outputs": [],
      "source": [
        "def swish(x):\n",
        "  return x * tf.sigmoid(x)"
      ]
    },
    {
      "cell_type": "code",
      "execution_count": 57,
      "metadata": {
        "id": "ZOW20vsY9oJ7"
      },
      "outputs": [],
      "source": [
        "lrelu=tf.keras.layers.LeakyReLU(alpha=0.01)"
      ]
    },
    {
      "cell_type": "code",
      "execution_count": 58,
      "metadata": {
        "id": "kahyFrSlUks2"
      },
      "outputs": [],
      "source": [
        "Tanh=tf.tanh"
      ]
    },
    {
      "cell_type": "code",
      "execution_count": 59,
      "metadata": {
        "id": "xDPb4VTlSd8y"
      },
      "outputs": [],
      "source": [
        "absolute=tf.abs"
      ]
    },
    {
      "cell_type": "code",
      "execution_count": 60,
      "metadata": {
        "id": "Ukk8Xc62dtYq"
      },
      "outputs": [],
      "source": [
        "swish=tf.keras.activations.swish"
      ]
    },
    {
      "cell_type": "code",
      "execution_count": 61,
      "metadata": {
        "id": "4UZcyewcd_Ut"
      },
      "outputs": [],
      "source": [
        "def lisht(x):\n",
        "  return x*tf.tanh(x)"
      ]
    },
    {
      "cell_type": "code",
      "execution_count": 62,
      "metadata": {
        "id": "9ap6GO5-eLnS"
      },
      "outputs": [],
      "source": [
        "def softplus(x):\n",
        "  return tf.math.softplus(x,name=None)"
      ]
    },
    {
      "cell_type": "code",
      "execution_count": 63,
      "metadata": {
        "id": "ozWitIpBfZD6"
      },
      "outputs": [],
      "source": [
        "def gelu(x):\n",
        "  return tf.keras.activations.gelu(\n",
        "    x, approximate=False\n",
        ")"
      ]
    },
    {
      "cell_type": "code",
      "execution_count": 64,
      "metadata": {
        "id": "CfCVPjknfpwS"
      },
      "outputs": [],
      "source": [
        "def selu(x):\n",
        "  return tf.keras.activations.selu(x)"
      ]
    },
    {
      "cell_type": "code",
      "execution_count": 65,
      "metadata": {
        "id": "meMb9-bpf_3M"
      },
      "outputs": [],
      "source": [
        "def mish(x):\n",
        "  return x * tf.tanh(softplus(x))\n"
      ]
    },
    {
      "cell_type": "code",
      "execution_count": 66,
      "metadata": {
        "id": "CzLdkPe8TXKQ"
      },
      "outputs": [],
      "source": [
        "def elu(x):\n",
        "  return tf.keras.activations.elu(x)"
      ]
    },
    {
      "cell_type": "code",
      "execution_count": 67,
      "metadata": {
        "id": "khFDns08gDZq"
      },
      "outputs": [],
      "source": [
        "def prelu(x):\n",
        "  alphas = 0.25\n",
        "  pos = tf.nn.relu(x)\n",
        "  neg = alphas * (x - abs(x)) * 0.5\n",
        "\n",
        "  return pos + neg"
      ]
    },
    {
      "cell_type": "code",
      "execution_count": 68,
      "metadata": {
        "id": "sRFvvB66Uq5c"
      },
      "outputs": [],
      "source": [
        "def sine(x):\n",
        "  return tf.sin(x)"
      ]
    },
    {
      "cell_type": "code",
      "execution_count": 69,
      "metadata": {
        "id": "YELmNewhgpD5"
      },
      "outputs": [],
      "source": [
        "def squ(x):\n",
        "  return x*x+x"
      ]
    },
    {
      "cell_type": "code",
      "execution_count": 70,
      "metadata": {
        "id": "2qJ9hKnRg6VE"
      },
      "outputs": [],
      "source": [
        "def nonmonotonic(x):\n",
        "  return x-x*x*x"
      ]
    },
    {
      "cell_type": "code",
      "execution_count": 71,
      "metadata": {
        "id": "9-8vFkMxhHHK"
      },
      "outputs": [],
      "source": [
        "def z2cosz(x):\n",
        "  return x*x*tf.cos(x)"
      ]
    },
    {
      "cell_type": "code",
      "execution_count": 72,
      "metadata": {
        "id": "dP-Pxpr2hUpx"
      },
      "outputs": [],
      "source": [
        "def ssu(x):\n",
        "  pi=np.pi\n",
        "  return pi*tf.experimental.numpy.sinc(x-pi)"
      ]
    },
    {
      "cell_type": "code",
      "execution_count": 73,
      "metadata": {
        "id": "bULGOEPMWr-t"
      },
      "outputs": [],
      "source": [
        "def dsu(x):\n",
        "  pi=np.pi\n",
        "  return pi*(tf.experimental.numpy.sinc(x-pi)-tf.experimental.numpy.sinc(x+pi))/2"
      ]
    },
    {
      "cell_type": "code",
      "execution_count": 76,
      "metadata": {
        "id": "5q7EJ1yydxS-"
      },
      "outputs": [],
      "source": [
        "def create_model(activation, dense_activation):\n",
        "\n",
        "  model = Sequential()\n",
        "  model.add(Conv2D(32, (3, 3), padding='same',input_shape=x_train.shape[1:]))\n",
        "  model.add(Activation(activation))\n",
        "  model.add(Conv2D(32, (3, 3)))\n",
        "  model.add(Activation(activation))\n",
        "  model.add(MaxPooling2D(pool_size=(2, 2)))\n",
        "  model.add(Dropout(0.25))\n",
        "\n",
        "  model.add(Conv2D(64, (3, 3), padding='same'))\n",
        "  model.add(Activation(activation))\n",
        "  model.add(Conv2D(64, (3, 3)))\n",
        "  model.add(Activation(activation))\n",
        "  model.add(MaxPooling2D(pool_size=(2, 2)))\n",
        "  model.add(Dropout(0.25))\n",
        "\n",
        "  model.add(Flatten())\n",
        "  model.add(Dense(512))\n",
        "  model.add(Activation(dense_activation))\n",
        "  model.add(Dropout(0.5))\n",
        "  model.add(Dense(num_classes))\n",
        "  model.add(Activation('softmax'))\n",
        "\n",
        "  opt = tf.keras.optimizers.Adam(learning_rate=1e-4)\n",
        "  # Let's train the model using RMSprop\n",
        "  model.compile(loss='categorical_crossentropy',\n",
        "                optimizer=opt,\n",
        "                metrics=['accuracy'])\n",
        "\n",
        "\n",
        "  return model"
      ]
    },
    {
      "cell_type": "code",
      "execution_count": null,
      "metadata": {
        "id": "QORiK2s5XStF"
      },
      "outputs": [],
      "source": [
        "epochs=40\n",
        "num_epochs = range(0, epochs)\n",
        "\n",
        "j=16\n",
        "\n",
        "if j==0:\n",
        "  func=signum\n",
        "  func_label=\"Signum\"\n",
        "  func_name='Signum'\n",
        "if j==1:\n",
        "  func=identity\n",
        "  func_label=\"Identity\"\n",
        "  func_name='Identity'\n",
        "if j==2:\n",
        "  func=bipolar\n",
        "  func_label=\"Bipolar\"\n",
        "  func_name='Bipolar'\n",
        "if j==3:\n",
        "  func='sigmoid'\n",
        "  func_label=\"Sigmoid\"\n",
        "  func_name='Sigmoid'\n",
        "if j==4:\n",
        "  func=Tanh\n",
        "  func_label=\"Tanh\"\n",
        "  func_name='Tanh'\n",
        "if j==5:\n",
        "  func=absolute\n",
        "  func_label=\"Absolute\"\n",
        "  func_name='Absolute'\n",
        "if j==6:\n",
        "  func=lisht\n",
        "  func_label=\"LiSHT\"\n",
        "  func_name='LiSHT'\n",
        "if j==7:\n",
        "  func=softplus\n",
        "  func_label=\"Softplus\"\n",
        "  func_name='Softplus'\n",
        "if j==8:\n",
        "  func='relu'\n",
        "  func_label=\"ReLU\"\n",
        "  func_name='ReLU'\n",
        "if j==9:\n",
        "  func=lrelu\n",
        "  func_label=\"LeakyReLU\"\n",
        "  func_name='LeakyReLU'\n",
        "if j==10:\n",
        "  func=gelu\n",
        "  func_label=\"GELU\"\n",
        "  func_name='GELU'\n",
        "if j==11:\n",
        "  func=selu\n",
        "  func_label=\"SELU\"\n",
        "  func_name='SELU'\n",
        "if j==12:\n",
        "  func=mish\n",
        "  func_label=\"Mish\"\n",
        "  func_name='Mish'\n",
        "if j==13:\n",
        "  func=swish\n",
        "  func_label=\"Swish\"\n",
        "  func_name='Swish'\n",
        "if j==14:\n",
        "  func=elu\n",
        "  func_label=\"ELU\"\n",
        "  func_name='ELU'\n",
        "if j==15:\n",
        "  func=prelu\n",
        "  func_label=\"PReLU\"\n",
        "  func_name='PReLU'\n",
        "if j==16:\n",
        "  func=sine\n",
        "  func_label=\"Sine Unit\"\n",
        "  func_name='SU'\n",
        "if j==17:\n",
        "  func=squ\n",
        "  func_label=\"Shifted Quadratic Unit\"\n",
        "  func_name='SQU'\n",
        "if j==18:\n",
        "  func=nonmonotonic\n",
        "  func_label=\"Non_Monotonic_Cubic\"\n",
        "  func_name='NMC'\n",
        "if j==19:\n",
        "  func=z2cosz\n",
        "  func_label=\"z2Cosz\"\n",
        "  func_name='z2Cosz'\n",
        "if j==20:\n",
        "  func=ssu\n",
        "  func_label=\"Shifted Sinc Unit\"\n",
        "  func_name='SSU'\n",
        "if j==21:\n",
        "  func=gcu\n",
        "  func_label=\"Growing Cosine Unit\"\n",
        "  func_name='GCU'\n",
        "if j==22:\n",
        "  func=dsu\n",
        "  func_label=\"Decaying Sine Unit\"\n",
        "  func_name='DSU'\n",
        "valloss = []\n",
        "valacc = []\n",
        "print(j+1,func_label)\n",
        "new_model = create_model(func, func)\n",
        "new_model.fit(x_train,y_train,batch_size=64,epochs=epochs,validation_data = (x_test,y_test))\n",
        "results = new_model.evaluate(x_test, y_test)\n",
        "print(\"Test loss=\",results[0])\n",
        "print(\"Test accuracy=\",results[1])\n"
      ]
    },
    {
      "cell_type": "code",
      "source": [
        "print(\"Simulation Complete!\")"
      ],
      "metadata": {
        "id": "vXxTMlPopIk-"
      },
      "execution_count": null,
      "outputs": []
    }
  ],
  "metadata": {
    "accelerator": "GPU",
    "colab": {
      "provenance": []
    },
    "gpuClass": "standard",
    "kernelspec": {
      "display_name": "Python 3.8.8 ('base')",
      "language": "python",
      "name": "python3"
    },
    "language_info": {
      "codemirror_mode": {
        "name": "ipython",
        "version": 3
      },
      "file_extension": ".py",
      "mimetype": "text/x-python",
      "name": "python",
      "nbconvert_exporter": "python",
      "pygments_lexer": "ipython3",
      "version": "3.8.8"
    },
    "vscode": {
      "interpreter": {
        "hash": "173fb8f7b4f5e178f128f42ea920f704627f040de39874f60763e4503dc17f35"
      }
    }
  },
  "nbformat": 4,
  "nbformat_minor": 0
}